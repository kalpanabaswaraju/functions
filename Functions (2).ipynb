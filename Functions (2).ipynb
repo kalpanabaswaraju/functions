{
 "cells": [
  {
   "cell_type": "code",
   "execution_count": 23,
   "id": "3d54b7fc",
   "metadata": {},
   "outputs": [
    {
     "name": "stdout",
     "output_type": "stream",
     "text": [
      "dcba4321\n"
     ]
    }
   ],
   "source": [
    "def reverse(str1):\n",
    "    reverse_str1 = ''\n",
    "    \n",
    "    index = len(str1)\n",
    "    \n",
    "    while index > 0:\n",
    "        reverse_str1 += str1[index - 1]\n",
    "        index = index - 1\n",
    "    return reverse_str1\n",
    "print(reverse(\"1234abcd\"))"
   ]
  }
 ],
 "metadata": {
  "kernelspec": {
   "display_name": "Python 3 (ipykernel)",
   "language": "python",
   "name": "python3"
  },
  "language_info": {
   "codemirror_mode": {
    "name": "ipython",
    "version": 3
   },
   "file_extension": ".py",
   "mimetype": "text/x-python",
   "name": "python",
   "nbconvert_exporter": "python",
   "pygments_lexer": "ipython3",
   "version": "3.10.0"
  }
 },
 "nbformat": 4,
 "nbformat_minor": 5
}
