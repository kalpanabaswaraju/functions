{
 "cells": [
  {
   "cell_type": "code",
   "execution_count": 11,
   "id": "3d54b7fc",
   "metadata": {
    "scrolled": true
   },
   "outputs": [
    {
     "name": "stdout",
     "output_type": "stream",
     "text": [
      "Enter the string: The quick Brow Fox\n",
      "Lowecase count: 12\n",
      "Uppercase count: 3\n"
     ]
    }
   ],
   "source": [
    "string = input(\"Enter the string: \")\n",
    "Lowercase = 0\n",
    "Uppercase = 0\n",
    "\n",
    "for k in string:\n",
    "    if k.isupper():\n",
    "        Uppercase = uppercase + 1\n",
    "    elif k.islower():\n",
    "        Lowercase = lowercase + 1\n",
    "        \n",
    "print(\"Lowecase count:\", lowercase)\n",
    "print(\"Uppercase count:\", uppercase)    "
   ]
  },
  {
   "cell_type": "code",
   "execution_count": null,
   "id": "cab863c6",
   "metadata": {},
   "outputs": [],
   "source": []
  }
 ],
 "metadata": {
  "kernelspec": {
   "display_name": "Python 3 (ipykernel)",
   "language": "python",
   "name": "python3"
  },
  "language_info": {
   "codemirror_mode": {
    "name": "ipython",
    "version": 3
   },
   "file_extension": ".py",
   "mimetype": "text/x-python",
   "name": "python",
   "nbconvert_exporter": "python",
   "pygments_lexer": "ipython3",
   "version": "3.10.0"
  }
 },
 "nbformat": 4,
 "nbformat_minor": 5
}
